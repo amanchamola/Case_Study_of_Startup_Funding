{
 "cells": [
  {
   "cell_type": "markdown",
   "metadata": {},
   "source": [
    "# Work 2\n",
    "\n",
    "\n",
    "Even after trying for so many times, your friend’s startup could not find the investment. So you decided to take this matter in your hand and try to find the list of investors who probably can invest in your friend’s startup. Your list will increase the chance of your friend startup getting some initial investment by contacting these investors. Find the top 5 investors who have invested maximum number of times (consider repeat investments in one company also). In a startup, multiple investors might have invested. So consider each investor for that startup. Ignore undisclosed investors."
   ]
  },
  {
   "cell_type": "code",
   "execution_count": null,
   "metadata": {},
   "outputs": [],
   "source": []
  },
  {
   "cell_type": "code",
   "execution_count": 1,
   "metadata": {},
   "outputs": [],
   "source": [
    "import numpy as np\n",
    "import pandas as pd\n",
    "import matplotlib.pyplot as plt\n",
    "import csv\n",
    "import operator"
   ]
  },
  {
   "cell_type": "code",
   "execution_count": 2,
   "metadata": {},
   "outputs": [],
   "source": [
    "path = 'C:/Users/91958/Desktop/nyadata/startup_funding.csv'"
   ]
  },
  {
   "cell_type": "code",
   "execution_count": 3,
   "metadata": {},
   "outputs": [],
   "source": [
    "df = pd.read_csv(path)"
   ]
  },
  {
   "cell_type": "code",
   "execution_count": 4,
   "metadata": {},
   "outputs": [],
   "source": [
    "test2 = df.copy()"
   ]
  },
  {
   "cell_type": "code",
   "execution_count": 5,
   "metadata": {},
   "outputs": [
    {
     "data": {
      "text/html": [
       "<div>\n",
       "<style scoped>\n",
       "    .dataframe tbody tr th:only-of-type {\n",
       "        vertical-align: middle;\n",
       "    }\n",
       "\n",
       "    .dataframe tbody tr th {\n",
       "        vertical-align: top;\n",
       "    }\n",
       "\n",
       "    .dataframe thead th {\n",
       "        text-align: right;\n",
       "    }\n",
       "</style>\n",
       "<table border=\"1\" class=\"dataframe\">\n",
       "  <thead>\n",
       "    <tr style=\"text-align: right;\">\n",
       "      <th></th>\n",
       "      <th>SNo</th>\n",
       "      <th>Date</th>\n",
       "      <th>StartupName</th>\n",
       "      <th>IndustryVertical</th>\n",
       "      <th>SubVertical</th>\n",
       "      <th>CityLocation</th>\n",
       "      <th>InvestorsName</th>\n",
       "      <th>InvestmentType</th>\n",
       "      <th>AmountInUSD</th>\n",
       "      <th>Remarks</th>\n",
       "    </tr>\n",
       "  </thead>\n",
       "  <tbody>\n",
       "    <tr>\n",
       "      <th>0</th>\n",
       "      <td>0</td>\n",
       "      <td>01/08/2017</td>\n",
       "      <td>TouchKin</td>\n",
       "      <td>Technology</td>\n",
       "      <td>Predictive Care Platform</td>\n",
       "      <td>Bangalore</td>\n",
       "      <td>Kae Capital</td>\n",
       "      <td>Private Equity</td>\n",
       "      <td>1,300,000</td>\n",
       "      <td>NaN</td>\n",
       "    </tr>\n",
       "    <tr>\n",
       "      <th>1</th>\n",
       "      <td>1</td>\n",
       "      <td>02/08/2017</td>\n",
       "      <td>Ethinos</td>\n",
       "      <td>Technology</td>\n",
       "      <td>Digital Marketing Agency</td>\n",
       "      <td>Mumbai</td>\n",
       "      <td>Triton Investment Advisors</td>\n",
       "      <td>Private Equity</td>\n",
       "      <td>NaN</td>\n",
       "      <td>NaN</td>\n",
       "    </tr>\n",
       "    <tr>\n",
       "      <th>2</th>\n",
       "      <td>2</td>\n",
       "      <td>02/08/2017</td>\n",
       "      <td>Leverage Edu</td>\n",
       "      <td>Consumer Internet</td>\n",
       "      <td>Online platform for Higher Education Services</td>\n",
       "      <td>New Delhi</td>\n",
       "      <td>Kashyap Deorah, Anand Sankeshwar, Deepak Jain,...</td>\n",
       "      <td>Seed Funding</td>\n",
       "      <td>NaN</td>\n",
       "      <td>NaN</td>\n",
       "    </tr>\n",
       "    <tr>\n",
       "      <th>3</th>\n",
       "      <td>3</td>\n",
       "      <td>02/08/2017</td>\n",
       "      <td>Zepo</td>\n",
       "      <td>Consumer Internet</td>\n",
       "      <td>DIY Ecommerce platform</td>\n",
       "      <td>Mumbai</td>\n",
       "      <td>Kunal Shah, LetsVenture, Anupam Mittal, Hetal ...</td>\n",
       "      <td>Seed Funding</td>\n",
       "      <td>500,000</td>\n",
       "      <td>NaN</td>\n",
       "    </tr>\n",
       "    <tr>\n",
       "      <th>4</th>\n",
       "      <td>4</td>\n",
       "      <td>02/08/2017</td>\n",
       "      <td>Click2Clinic</td>\n",
       "      <td>Consumer Internet</td>\n",
       "      <td>healthcare service aggregator</td>\n",
       "      <td>Hyderabad</td>\n",
       "      <td>Narottam Thudi, Shireesh Palle</td>\n",
       "      <td>Seed Funding</td>\n",
       "      <td>850,000</td>\n",
       "      <td>NaN</td>\n",
       "    </tr>\n",
       "    <tr>\n",
       "      <th>...</th>\n",
       "      <td>...</td>\n",
       "      <td>...</td>\n",
       "      <td>...</td>\n",
       "      <td>...</td>\n",
       "      <td>...</td>\n",
       "      <td>...</td>\n",
       "      <td>...</td>\n",
       "      <td>...</td>\n",
       "      <td>...</td>\n",
       "      <td>...</td>\n",
       "    </tr>\n",
       "    <tr>\n",
       "      <th>2367</th>\n",
       "      <td>2367</td>\n",
       "      <td>29/01/2015</td>\n",
       "      <td>Printvenue</td>\n",
       "      <td>NaN</td>\n",
       "      <td>NaN</td>\n",
       "      <td>NaN</td>\n",
       "      <td>Asia Pacific Internet Group</td>\n",
       "      <td>Private Equity</td>\n",
       "      <td>4,500,000</td>\n",
       "      <td>NaN</td>\n",
       "    </tr>\n",
       "    <tr>\n",
       "      <th>2368</th>\n",
       "      <td>2368</td>\n",
       "      <td>29/01/2015</td>\n",
       "      <td>Graphene</td>\n",
       "      <td>NaN</td>\n",
       "      <td>NaN</td>\n",
       "      <td>NaN</td>\n",
       "      <td>KARSEMVEN Fund</td>\n",
       "      <td>Private Equity</td>\n",
       "      <td>825,000</td>\n",
       "      <td>Govt backed VC Fund</td>\n",
       "    </tr>\n",
       "    <tr>\n",
       "      <th>2369</th>\n",
       "      <td>2369</td>\n",
       "      <td>30/01/2015</td>\n",
       "      <td>Mad Street Den</td>\n",
       "      <td>NaN</td>\n",
       "      <td>NaN</td>\n",
       "      <td>NaN</td>\n",
       "      <td>Exfinity Fund, GrowX Ventures.</td>\n",
       "      <td>Private Equity</td>\n",
       "      <td>1,500,000</td>\n",
       "      <td>NaN</td>\n",
       "    </tr>\n",
       "    <tr>\n",
       "      <th>2370</th>\n",
       "      <td>2370</td>\n",
       "      <td>30/01/2015</td>\n",
       "      <td>Simplotel</td>\n",
       "      <td>NaN</td>\n",
       "      <td>NaN</td>\n",
       "      <td>NaN</td>\n",
       "      <td>MakeMyTrip</td>\n",
       "      <td>Private Equity</td>\n",
       "      <td>NaN</td>\n",
       "      <td>Strategic Funding, Minority stake</td>\n",
       "    </tr>\n",
       "    <tr>\n",
       "      <th>2371</th>\n",
       "      <td>2371</td>\n",
       "      <td>31/01/2015</td>\n",
       "      <td>couponmachine.in</td>\n",
       "      <td>NaN</td>\n",
       "      <td>NaN</td>\n",
       "      <td>NaN</td>\n",
       "      <td>UK based Group of Angel Investors</td>\n",
       "      <td>Seed Funding</td>\n",
       "      <td>140,000</td>\n",
       "      <td>NaN</td>\n",
       "    </tr>\n",
       "  </tbody>\n",
       "</table>\n",
       "<p>2372 rows × 10 columns</p>\n",
       "</div>"
      ],
      "text/plain": [
       "       SNo        Date       StartupName   IndustryVertical  \\\n",
       "0        0  01/08/2017          TouchKin         Technology   \n",
       "1        1  02/08/2017           Ethinos         Technology   \n",
       "2        2  02/08/2017      Leverage Edu  Consumer Internet   \n",
       "3        3  02/08/2017              Zepo  Consumer Internet   \n",
       "4        4  02/08/2017      Click2Clinic  Consumer Internet   \n",
       "...    ...         ...               ...                ...   \n",
       "2367  2367  29/01/2015        Printvenue                NaN   \n",
       "2368  2368  29/01/2015          Graphene                NaN   \n",
       "2369  2369  30/01/2015    Mad Street Den                NaN   \n",
       "2370  2370  30/01/2015         Simplotel                NaN   \n",
       "2371  2371  31/01/2015  couponmachine.in                NaN   \n",
       "\n",
       "                                        SubVertical CityLocation  \\\n",
       "0                          Predictive Care Platform    Bangalore   \n",
       "1                          Digital Marketing Agency       Mumbai   \n",
       "2     Online platform for Higher Education Services    New Delhi   \n",
       "3                            DIY Ecommerce platform       Mumbai   \n",
       "4                     healthcare service aggregator    Hyderabad   \n",
       "...                                             ...          ...   \n",
       "2367                                            NaN          NaN   \n",
       "2368                                            NaN          NaN   \n",
       "2369                                            NaN          NaN   \n",
       "2370                                            NaN          NaN   \n",
       "2371                                            NaN          NaN   \n",
       "\n",
       "                                          InvestorsName  InvestmentType  \\\n",
       "0                                           Kae Capital  Private Equity   \n",
       "1                            Triton Investment Advisors  Private Equity   \n",
       "2     Kashyap Deorah, Anand Sankeshwar, Deepak Jain,...    Seed Funding   \n",
       "3     Kunal Shah, LetsVenture, Anupam Mittal, Hetal ...    Seed Funding   \n",
       "4                        Narottam Thudi, Shireesh Palle    Seed Funding   \n",
       "...                                                 ...             ...   \n",
       "2367                        Asia Pacific Internet Group  Private Equity   \n",
       "2368                                     KARSEMVEN Fund  Private Equity   \n",
       "2369                     Exfinity Fund, GrowX Ventures.  Private Equity   \n",
       "2370                                         MakeMyTrip  Private Equity   \n",
       "2371                  UK based Group of Angel Investors    Seed Funding   \n",
       "\n",
       "     AmountInUSD                            Remarks  \n",
       "0      1,300,000                                NaN  \n",
       "1            NaN                                NaN  \n",
       "2            NaN                                NaN  \n",
       "3        500,000                                NaN  \n",
       "4        850,000                                NaN  \n",
       "...          ...                                ...  \n",
       "2367   4,500,000                                NaN  \n",
       "2368     825,000                Govt backed VC Fund  \n",
       "2369   1,500,000                                NaN  \n",
       "2370         NaN  Strategic Funding, Minority stake  \n",
       "2371     140,000                                NaN  \n",
       "\n",
       "[2372 rows x 10 columns]"
      ]
     },
     "execution_count": 5,
     "metadata": {},
     "output_type": "execute_result"
    }
   ],
   "source": [
    "test2"
   ]
  },
  {
   "cell_type": "code",
   "execution_count": 6,
   "metadata": {},
   "outputs": [
    {
     "data": {
      "text/plain": [
       "Index(['Undisclosed Investors', 'Undisclosed investors',\n",
       "       'Indian Angel Network', 'Ratan Tata', 'Kalaari Capital',\n",
       "       'Group of Angel Investors', 'Sequoia Capital', 'undisclosed investors',\n",
       "       'RoundGlass Partners', 'Brand Capital',\n",
       "       ...\n",
       "       'Lumis Partners, The HR Fund, Rajul Garg, Quintillion Media',\n",
       "       'Village Capital', 'GIC ventures', 'GBIM Technologies Pvt Ltd',\n",
       "       'Holostik Group, YouWeCan Ventures, 500 Startups, Vijay Shekhar Sharma, Manish Kheterpal, Amit Patni',\n",
       "       'Mayfield India, 3one4 Capital, Sistema Asia Fund, Neoplux Technology Fund',\n",
       "       'Tiger Global Management, Lightspeed Venture Partners',\n",
       "       'Blume Ventures,  Tracxn Labs', 'Sanjai Vohra, V. Bunty Bohra',\n",
       "       'Asuka Holdings, YouWeCan Ventures, Beenext, Beenos, M&S Partners'],\n",
       "      dtype='object', length=1885)"
      ]
     },
     "execution_count": 6,
     "metadata": {},
     "output_type": "execute_result"
    }
   ],
   "source": [
    "temp2 = test2['InvestorsName'].value_counts()\n",
    "temp2.index"
   ]
  },
  {
   "cell_type": "code",
   "execution_count": 7,
   "metadata": {},
   "outputs": [],
   "source": [
    "#correcting the spelling in investors name ignoring undisclosed investors\n",
    "test2['InvestorsName'].replace(\"Undisclosed investors\", \"Undisclosed Investors\", inplace = True)\n",
    "test2['InvestorsName'].replace(\"Undisclosed Investors\",\"\",inplace = True)"
   ]
  },
  {
   "cell_type": "code",
   "execution_count": 8,
   "metadata": {},
   "outputs": [],
   "source": [
    "#filter na\n",
    "test2.dropna(inplace = True, subset=['InvestorsName'])\n",
    "test2.reset_index(drop = True, inplace = True)"
   ]
  },
  {
   "cell_type": "code",
   "execution_count": null,
   "metadata": {},
   "outputs": [],
   "source": []
  },
  {
   "cell_type": "markdown",
   "metadata": {},
   "source": [
    "### Experimenting with dictionary and seeing how they works here"
   ]
  },
  {
   "cell_type": "code",
   "execution_count": null,
   "metadata": {},
   "outputs": [],
   "source": []
  },
  {
   "cell_type": "code",
   "execution_count": 9,
   "metadata": {},
   "outputs": [],
   "source": [
    "def build_dict(array):\n",
    "    d = {}\n",
    "    for i in array:\n",
    "        if ',' not in i and i != '' :\n",
    "            d[i] = d.get(i,0) + 1\n",
    "        else:\n",
    "            string = i.strip().split(',')\n",
    "            for j in string:\n",
    "                if j != '':\n",
    "                    d[j.strip()] = d.get(j.strip(),0) + 1\n",
    "                    \n",
    "    return d        "
   ]
  },
  {
   "cell_type": "markdown",
   "metadata": {},
   "source": [
    "### Here instead of .apply we're directly callling the function which is then having array of values in the funtion as variable"
   ]
  },
  {
   "cell_type": "code",
   "execution_count": 10,
   "metadata": {},
   "outputs": [],
   "source": [
    "dictionary = build_dict(test2['InvestorsName'])"
   ]
  },
  {
   "cell_type": "code",
   "execution_count": 11,
   "metadata": {},
   "outputs": [],
   "source": [
    "#build pandas dataframe of investors name and its number of investments\n",
    "\n",
    "invest = pd.DataFrame(list(dictionary.values()),list(dictionary.keys()))\n"
   ]
  },
  {
   "cell_type": "code",
   "execution_count": 12,
   "metadata": {},
   "outputs": [
    {
     "data": {
      "text/html": [
       "<div>\n",
       "<style scoped>\n",
       "    .dataframe tbody tr th:only-of-type {\n",
       "        vertical-align: middle;\n",
       "    }\n",
       "\n",
       "    .dataframe tbody tr th {\n",
       "        vertical-align: top;\n",
       "    }\n",
       "\n",
       "    .dataframe thead th {\n",
       "        text-align: right;\n",
       "    }\n",
       "</style>\n",
       "<table border=\"1\" class=\"dataframe\">\n",
       "  <thead>\n",
       "    <tr style=\"text-align: right;\">\n",
       "      <th></th>\n",
       "      <th>0</th>\n",
       "    </tr>\n",
       "  </thead>\n",
       "  <tbody>\n",
       "    <tr>\n",
       "      <th>Kae Capital</th>\n",
       "      <td>22</td>\n",
       "    </tr>\n",
       "    <tr>\n",
       "      <th>Triton Investment Advisors</th>\n",
       "      <td>1</td>\n",
       "    </tr>\n",
       "    <tr>\n",
       "      <th>Kashyap Deorah</th>\n",
       "      <td>3</td>\n",
       "    </tr>\n",
       "    <tr>\n",
       "      <th>Anand Sankeshwar</th>\n",
       "      <td>2</td>\n",
       "    </tr>\n",
       "    <tr>\n",
       "      <th>Deepak Jain</th>\n",
       "      <td>1</td>\n",
       "    </tr>\n",
       "    <tr>\n",
       "      <th>...</th>\n",
       "      <td>...</td>\n",
       "    </tr>\n",
       "    <tr>\n",
       "      <th>Asia Pacific Internet Group</th>\n",
       "      <td>1</td>\n",
       "    </tr>\n",
       "    <tr>\n",
       "      <th>KARSEMVEN Fund</th>\n",
       "      <td>1</td>\n",
       "    </tr>\n",
       "    <tr>\n",
       "      <th>Exfinity Fund</th>\n",
       "      <td>1</td>\n",
       "    </tr>\n",
       "    <tr>\n",
       "      <th>GrowX Ventures.</th>\n",
       "      <td>1</td>\n",
       "    </tr>\n",
       "    <tr>\n",
       "      <th>UK based Group of Angel Investors</th>\n",
       "      <td>1</td>\n",
       "    </tr>\n",
       "  </tbody>\n",
       "</table>\n",
       "<p>2544 rows × 1 columns</p>\n",
       "</div>"
      ],
      "text/plain": [
       "                                    0\n",
       "Kae Capital                        22\n",
       "Triton Investment Advisors          1\n",
       "Kashyap Deorah                      3\n",
       "Anand Sankeshwar                    2\n",
       "Deepak Jain                         1\n",
       "...                                ..\n",
       "Asia Pacific Internet Group         1\n",
       "KARSEMVEN Fund                      1\n",
       "Exfinity Fund                       1\n",
       "GrowX Ventures.                     1\n",
       "UK based Group of Angel Investors   1\n",
       "\n",
       "[2544 rows x 1 columns]"
      ]
     },
     "execution_count": 12,
     "metadata": {},
     "output_type": "execute_result"
    }
   ],
   "source": [
    "invest"
   ]
  },
  {
   "cell_type": "code",
   "execution_count": 13,
   "metadata": {},
   "outputs": [],
   "source": [
    "#sort the values in descending order\n",
    "\n",
    "invest = invest.sort_values(by =[0], ascending = False)"
   ]
  },
  {
   "cell_type": "code",
   "execution_count": 14,
   "metadata": {},
   "outputs": [
    {
     "data": {
      "text/html": [
       "<div>\n",
       "<style scoped>\n",
       "    .dataframe tbody tr th:only-of-type {\n",
       "        vertical-align: middle;\n",
       "    }\n",
       "\n",
       "    .dataframe tbody tr th {\n",
       "        vertical-align: top;\n",
       "    }\n",
       "\n",
       "    .dataframe thead th {\n",
       "        text-align: right;\n",
       "    }\n",
       "</style>\n",
       "<table border=\"1\" class=\"dataframe\">\n",
       "  <thead>\n",
       "    <tr style=\"text-align: right;\">\n",
       "      <th></th>\n",
       "      <th>0</th>\n",
       "    </tr>\n",
       "  </thead>\n",
       "  <tbody>\n",
       "    <tr>\n",
       "      <th>Sequoia Capital</th>\n",
       "      <td>64</td>\n",
       "    </tr>\n",
       "    <tr>\n",
       "      <th>Accel Partners</th>\n",
       "      <td>53</td>\n",
       "    </tr>\n",
       "    <tr>\n",
       "      <th>Kalaari Capital</th>\n",
       "      <td>44</td>\n",
       "    </tr>\n",
       "    <tr>\n",
       "      <th>SAIF Partners</th>\n",
       "      <td>41</td>\n",
       "    </tr>\n",
       "    <tr>\n",
       "      <th>Indian Angel Network</th>\n",
       "      <td>40</td>\n",
       "    </tr>\n",
       "    <tr>\n",
       "      <th>...</th>\n",
       "      <td>...</td>\n",
       "    </tr>\n",
       "    <tr>\n",
       "      <th>Salesforce Ventures</th>\n",
       "      <td>1</td>\n",
       "    </tr>\n",
       "    <tr>\n",
       "      <th>Microsoft Ventures</th>\n",
       "      <td>1</td>\n",
       "    </tr>\n",
       "    <tr>\n",
       "      <th>Fenqile</th>\n",
       "      <td>1</td>\n",
       "    </tr>\n",
       "    <tr>\n",
       "      <th>Yeahmobi</th>\n",
       "      <td>1</td>\n",
       "    </tr>\n",
       "    <tr>\n",
       "      <th>UK based Group of Angel Investors</th>\n",
       "      <td>1</td>\n",
       "    </tr>\n",
       "  </tbody>\n",
       "</table>\n",
       "<p>2544 rows × 1 columns</p>\n",
       "</div>"
      ],
      "text/plain": [
       "                                    0\n",
       "Sequoia Capital                    64\n",
       "Accel Partners                     53\n",
       "Kalaari Capital                    44\n",
       "SAIF Partners                      41\n",
       "Indian Angel Network               40\n",
       "...                                ..\n",
       "Salesforce Ventures                 1\n",
       "Microsoft Ventures                  1\n",
       "Fenqile                             1\n",
       "Yeahmobi                            1\n",
       "UK based Group of Angel Investors   1\n",
       "\n",
       "[2544 rows x 1 columns]"
      ]
     },
     "execution_count": 14,
     "metadata": {},
     "output_type": "execute_result"
    }
   ],
   "source": [
    "invest"
   ]
  },
  {
   "cell_type": "code",
   "execution_count": 15,
   "metadata": {},
   "outputs": [
    {
     "data": {
      "text/plain": [
       "['Sequoia Capital',\n",
       " 'Accel Partners',\n",
       " 'Kalaari Capital',\n",
       " 'SAIF Partners',\n",
       " 'Indian Angel Network']"
      ]
     },
     "execution_count": 15,
     "metadata": {},
     "output_type": "execute_result"
    }
   ],
   "source": [
    "x = []\n",
    "y = []\n",
    "\n",
    "#we have to just find top 5 investors who invest maximum number of times\n",
    "\n",
    "for i in range(5):\n",
    "    x.append(invest.index[i])\n",
    "    y.append(invest.values[i][0])\n",
    "\n",
    "x    "
   ]
  },
  {
   "cell_type": "code",
   "execution_count": 16,
   "metadata": {},
   "outputs": [
    {
     "data": {
      "text/plain": [
       "[64, 53, 44, 41, 40]"
      ]
     },
     "execution_count": 16,
     "metadata": {},
     "output_type": "execute_result"
    }
   ],
   "source": [
    "y"
   ]
  },
  {
   "cell_type": "code",
   "execution_count": null,
   "metadata": {},
   "outputs": [],
   "source": []
  },
  {
   "cell_type": "code",
   "execution_count": 17,
   "metadata": {},
   "outputs": [
    {
     "name": "stdout",
     "output_type": "stream",
     "text": [
      "List Of Top 5 Investors who Invested most number of times :\n",
      "1. Sequoia Capital\n",
      "2. Accel Partners\n",
      "3. Kalaari Capital\n",
      "4. SAIF Partners\n",
      "5. Indian Angel Network\n"
     ]
    }
   ],
   "source": [
    "#printing the top investors\n",
    "\n",
    "print(\"List Of Top 5 Investors who Invested most number of times :\")\n",
    "i = 0\n",
    "for ele in x:\n",
    "    print(i+1,end = \"\")\n",
    "    print(\".\", end = \" \")\n",
    "    print(ele)\n",
    "    i += 1\n"
   ]
  },
  {
   "cell_type": "code",
   "execution_count": null,
   "metadata": {},
   "outputs": [],
   "source": []
  },
  {
   "cell_type": "code",
   "execution_count": 18,
   "metadata": {},
   "outputs": [
    {
     "data": {
      "image/png": "[encoded data removed]",
      "text/plain": [
       "<Figure size 432x288 with 1 Axes>"
      ]
     },
     "metadata": {
      "needs_background": "light"
     },
     "output_type": "display_data"
    }
   ],
   "source": [
    "#plot the plot line\n",
    "\n",
    "plt.plot(x, y, color='green', linestyle='dashed', linewidth = 3, marker='o', markerfacecolor='red', markersize=12)\n",
    "plt.xlabel(\"Investors Name\")\n",
    "plt.xticks(rotation=40)\n",
    "plt.ylabel(\"Number Of Investments\")\n",
    "plt.title(\"Investors vs Number Of Investments\")\n",
    "plt.grid()\n",
    "plt.show()\n"
   ]
  },
  {
   "cell_type": "code",
   "execution_count": 19,
   "metadata": {},
   "outputs": [
    {
     "data": {
      "text/html": [
       "<div>\n",
       "<style scoped>\n",
       "    .dataframe tbody tr th:only-of-type {\n",
       "        vertical-align: middle;\n",
       "    }\n",
       "\n",
       "    .dataframe tbody tr th {\n",
       "        vertical-align: top;\n",
       "    }\n",
       "\n",
       "    .dataframe thead th {\n",
       "        text-align: right;\n",
       "    }\n",
       "</style>\n",
       "<table border=\"1\" class=\"dataframe\">\n",
       "  <thead>\n",
       "    <tr style=\"text-align: right;\">\n",
       "      <th></th>\n",
       "      <th>Name Of Investors</th>\n",
       "      <th>Total Number Of Investments</th>\n",
       "    </tr>\n",
       "  </thead>\n",
       "  <tbody>\n",
       "    <tr>\n",
       "      <th>0</th>\n",
       "      <td>Sequoia Capital</td>\n",
       "      <td>64</td>\n",
       "    </tr>\n",
       "    <tr>\n",
       "      <th>1</th>\n",
       "      <td>Accel Partners</td>\n",
       "      <td>53</td>\n",
       "    </tr>\n",
       "    <tr>\n",
       "      <th>2</th>\n",
       "      <td>Kalaari Capital</td>\n",
       "      <td>44</td>\n",
       "    </tr>\n",
       "    <tr>\n",
       "      <th>3</th>\n",
       "      <td>SAIF Partners</td>\n",
       "      <td>41</td>\n",
       "    </tr>\n",
       "    <tr>\n",
       "      <th>4</th>\n",
       "      <td>Indian Angel Network</td>\n",
       "      <td>40</td>\n",
       "    </tr>\n",
       "  </tbody>\n",
       "</table>\n",
       "</div>"
      ],
      "text/plain": [
       "      Name Of Investors  Total Number Of Investments\n",
       "0       Sequoia Capital                           64\n",
       "1        Accel Partners                           53\n",
       "2       Kalaari Capital                           44\n",
       "3         SAIF Partners                           41\n",
       "4  Indian Angel Network                           40"
      ]
     },
     "execution_count": 19,
     "metadata": {},
     "output_type": "execute_result"
    }
   ],
   "source": [
    "#pandas frame for Investors name and corresponding Number of Investments made by them\n",
    "li = list(zip(x,y))\n",
    "investor_data = pd.DataFrame(li, columns = [\"Name Of Investors\", \"Total Number Of Investments\"])\n",
    "investor_data"
   ]
  },
  {
   "cell_type": "code",
   "execution_count": null,
   "metadata": {},
   "outputs": [],
   "source": []
  },
  {
   "cell_type": "code",
   "execution_count": null,
   "metadata": {},
   "outputs": [],
   "source": []
  },
  {
   "cell_type": "code",
   "execution_count": null,
   "metadata": {},
   "outputs": [],
   "source": []
  }
 ],
 "metadata": {
  "kernelspec": {
   "display_name": "Python 3",
   "language": "python",
   "name": "python3"
  },
  "language_info": {
   "codemirror_mode": {
    "name": "ipython",
    "version": 3
   },
   "file_extension": ".py",
   "mimetype": "text/x-python",
   "name": "python",
   "nbconvert_exporter": "python",
   "pygments_lexer": "ipython3",
   "version": "3.8.3"
  }
 },
 "nbformat": 4,
 "nbformat_minor": 4
}
