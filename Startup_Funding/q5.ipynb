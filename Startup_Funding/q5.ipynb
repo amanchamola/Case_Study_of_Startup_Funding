{
 "cells": [
  {
   "cell_type": "markdown",
   "metadata": {},
   "source": [
    "# Work 5\n",
    "\n",
    "\n",
    "\n",
    "Due to your immense help, your friend startup successfully got seed funding and it is on the operational mode. Now your friend wants to expand his startup and he is looking for new investors for his startup. Now you again come as a saviour to help your friend and want to create a list of probable new new investors. Before moving forward you remember your investor friend advice that finding the investors by analysing the investment type. Since your friend startup is not in early phase it is in growth stage so the best-suited investment type is Private Equity. Find the top 5 investors who have invested in a different number of startups and their investment type is Private Equity. Correct spelling of investment types are - \"Private Equity\", \"Seed Funding\", \"Debt Funding\", and \"Crowd Funding\". Keep an eye for any spelling mistake. You can find this by printing unique values from this column.There are many errors in startup names. Ignore correcting all, just handle the important ones - Ola, Flipkart, Oyo and Paytm."
   ]
  },
  {
   "cell_type": "code",
   "execution_count": null,
   "metadata": {},
   "outputs": [],
   "source": []
  },
  {
   "cell_type": "code",
   "execution_count": 1,
   "metadata": {},
   "outputs": [],
   "source": [
    "import numpy as np\n",
    "import pandas as pd\n",
    "import matplotlib.pyplot as plt\n",
    "import csv\n",
    "import operator"
   ]
  },
  {
   "cell_type": "code",
   "execution_count": 2,
   "metadata": {},
   "outputs": [],
   "source": [
    "path = 'C:/Users/91958/Desktop/nyadata/startup_funding.csv'"
   ]
  },
  {
   "cell_type": "code",
   "execution_count": 3,
   "metadata": {},
   "outputs": [],
   "source": [
    "df = pd.read_csv(path)"
   ]
  },
  {
   "cell_type": "code",
   "execution_count": 4,
   "metadata": {},
   "outputs": [],
   "source": [
    "test5 = df.copy()"
   ]
  },
  {
   "cell_type": "code",
   "execution_count": null,
   "metadata": {},
   "outputs": [],
   "source": []
  },
  {
   "cell_type": "code",
   "execution_count": 5,
   "metadata": {},
   "outputs": [
    {
     "data": {
      "text/plain": [
       "Index(['Undisclosed Investors', 'Undisclosed investors',\n",
       "       'Indian Angel Network', 'Ratan Tata', 'Kalaari Capital',\n",
       "       'Group of Angel Investors', 'Sequoia Capital', 'undisclosed investors',\n",
       "       'Brand Capital', 'Undisclosed Investor',\n",
       "       ...\n",
       "       'StartupXseed Ventures, The Phoenix Fund and others',\n",
       "       'NTT Finance, Telephone Corporation', 'Myntra/LivSpace Founders',\n",
       "       'HDFC, Faering Capital, Elevate Sports',\n",
       "       'Mato Peric, Peter Kabel & others', 'Oranda Global & Others',\n",
       "       'GEMs Advisory, Quarizon', 'Purvi Ventures, Rajul Garg, Vipin Arora',\n",
       "       'Mirah Hospitality',\n",
       "       'Subramani Somasundaram, Sundeep Sahni, Mayank Mittal & Others'],\n",
       "      dtype='object', length=1885)"
      ]
     },
     "execution_count": 5,
     "metadata": {},
     "output_type": "execute_result"
    }
   ],
   "source": [
    "# Checking to see top elements in Investors index\n",
    "\n",
    "temp = test5['InvestorsName'].value_counts()\n",
    "temp.index"
   ]
  },
  {
   "cell_type": "code",
   "execution_count": 6,
   "metadata": {},
   "outputs": [],
   "source": [
    "#correcting the spelling in investors name ignoring undisclosed investors\n",
    "\n",
    "test5['InvestorsName'].replace(\"Undisclosed investors\", \"Undisclosed Investors\", inplace = True)\n",
    "test5['InvestorsName'].replace(\"Undisclosed Investors\",\"\",inplace = True)"
   ]
  },
  {
   "cell_type": "code",
   "execution_count": null,
   "metadata": {},
   "outputs": [],
   "source": []
  },
  {
   "cell_type": "code",
   "execution_count": 7,
   "metadata": {},
   "outputs": [
    {
     "data": {
      "text/plain": [
       "Index(['Swiggy', 'UrbanClap', 'Paytm', 'Jugnoo', 'Medinfi', 'NoBroker',\n",
       "       'Tracxn', 'TinyStep', 'Ola', 'Capital Float',\n",
       "       ...\n",
       "       'ICustomMadeIt', 'AskMyGift', 'Room on Call', 'Shadowfox',\n",
       "       'Little Black Book', 'Instaproc', 'Chaayos', 'Indix', 'Wealthy',\n",
       "       'DailyNinja'],\n",
       "      dtype='object', length=2001)"
      ]
     },
     "execution_count": 7,
     "metadata": {},
     "output_type": "execute_result"
    }
   ],
   "source": [
    "# Checking to see top elements in Startup Name\n",
    "\n",
    "temp3 = test5['StartupName'].value_counts()\n",
    "temp3.index"
   ]
  },
  {
   "cell_type": "code",
   "execution_count": 8,
   "metadata": {},
   "outputs": [],
   "source": [
    "#correcting major startup names\n",
    "\n",
    "test5['StartupName'].replace(\"Ola Cabs\", \"Ola\", inplace = True)\n",
    "test5['StartupName'].replace(\"OyoRooms\", \"Oyo\", inplace = True)\n",
    "test5['StartupName'].replace(\"Oyorooms\", \"Oyo\", inplace = True)\n",
    "test5['StartupName'].replace(\"OYO Rooms\", \"Oyo\", inplace = True)\n",
    "test5['StartupName'].replace(\"Olacabs\", \"Ola\", inplace = True)\n",
    "test5['StartupName'].replace(\"Flipkart.com\", \"Flipkart\", inplace = True)\n",
    "test5['StartupName'].replace(\"Oyo Rooms\", \"Oyo\", inplace = True)\n",
    "test5['StartupName'].replace(\"Paytm Marketplace\", \"Paytm\", inplace = True)"
   ]
  },
  {
   "cell_type": "code",
   "execution_count": null,
   "metadata": {},
   "outputs": [],
   "source": []
  },
  {
   "cell_type": "code",
   "execution_count": 9,
   "metadata": {},
   "outputs": [
    {
     "data": {
      "text/plain": [
       "Index(['Seed Funding', 'Private Equity', 'SeedFunding', 'Crowd Funding',\n",
       "       'Crowd funding', 'PrivateEquity', 'Debt Funding'],\n",
       "      dtype='object')"
      ]
     },
     "execution_count": 9,
     "metadata": {},
     "output_type": "execute_result"
    }
   ],
   "source": [
    "# Checking to see top elements in Investment Type\n",
    "\n",
    "temp3a = test5['InvestmentType'].value_counts()\n",
    "temp3a.index"
   ]
  },
  {
   "cell_type": "code",
   "execution_count": 10,
   "metadata": {},
   "outputs": [],
   "source": [
    "#correcting spelling of investment type\n",
    "\n",
    "test5['InvestmentType'].replace(\"PrivateEquity\",\"Private Equity\", inplace = True)\n",
    "test5['InvestmentType'].replace(\"SeedFunding\",\"Seed Funding\", inplace = True)\n",
    "test5['InvestmentType'].replace(\"Crowd funding\",\"Crowd Funding\", inplace = True)"
   ]
  },
  {
   "cell_type": "code",
   "execution_count": 11,
   "metadata": {},
   "outputs": [],
   "source": [
    "#filter na \n",
    "\n",
    "test5.dropna(inplace = True, subset = [\"InvestorsName\", \"StartupName\", \"InvestmentType\"])\n",
    "test5.reset_index(inplace = True, drop = True)"
   ]
  },
  {
   "cell_type": "code",
   "execution_count": null,
   "metadata": {},
   "outputs": [],
   "source": []
  },
  {
   "cell_type": "markdown",
   "metadata": {},
   "source": [
    "# Main Funtion"
   ]
  },
  {
   "cell_type": "code",
   "execution_count": 12,
   "metadata": {},
   "outputs": [],
   "source": [
    "def create(startup_name, Investor_Name, Investment_Type,Desired_Investment_Type):\n",
    "    cnt = {}\n",
    "    name_startup = {}\n",
    "    \n",
    "    n = len(Investor_Name)\n",
    "    for index in range(n):\n",
    "        \n",
    "        if Investment_Type[index].strip() not in Desired_Investment_Type:\n",
    "            continue\n",
    "            \n",
    "        i = Investor_Name[index].strip()\n",
    "        name = startup_name[index].strip()\n",
    "        \n",
    "        if \",\" not in i and i!='':\n",
    "            if name_startup.get(i) is None:\n",
    "                cnt[i] = 1\n",
    "                li =[]\n",
    "                li.append(name)\n",
    "                name_startup[i] = li\n",
    "                \n",
    "            else:\n",
    "                li = name_startup[i]\n",
    "                if name not in li:\n",
    "                    cnt[i] = cnt.get(i,0) + 1\n",
    "                    li.append(name)\n",
    "                    name_startup[i] = li\n",
    "        else:\n",
    "            string = i.strip().split(',')\n",
    "            for j in string:\n",
    "                k = j.strip()\n",
    "                if k != '':\n",
    "                    \n",
    "                    if name_startup.get(k) is None:\n",
    "                        cnt[k] = 1\n",
    "                        li =[]\n",
    "                        li.append(name)\n",
    "                        name_startup[k] = li\n",
    "                \n",
    "                    else:\n",
    "                        li = name_startup[k]\n",
    "                        if name not in li:\n",
    "                            cnt[k] = cnt.get(k,0) + 1\n",
    "                            li.append(name)\n",
    "                            name_startup[k] = li\n",
    "\n",
    "                \n",
    "    return cnt"
   ]
  },
  {
   "cell_type": "code",
   "execution_count": 13,
   "metadata": {},
   "outputs": [],
   "source": [
    "dictionary = create(test5['StartupName'],test5['InvestorsName'],test5['InvestmentType'],[\"Private Equity\"]) "
   ]
  },
  {
   "cell_type": "code",
   "execution_count": null,
   "metadata": {},
   "outputs": [],
   "source": []
  },
  {
   "cell_type": "code",
   "execution_count": 14,
   "metadata": {},
   "outputs": [],
   "source": [
    "different_invest = pd.DataFrame(list(dictionary.values()),list(dictionary.keys()))"
   ]
  },
  {
   "cell_type": "code",
   "execution_count": 15,
   "metadata": {},
   "outputs": [
    {
     "data": {
      "text/html": [
       "<div>\n",
       "<style scoped>\n",
       "    .dataframe tbody tr th:only-of-type {\n",
       "        vertical-align: middle;\n",
       "    }\n",
       "\n",
       "    .dataframe tbody tr th {\n",
       "        vertical-align: top;\n",
       "    }\n",
       "\n",
       "    .dataframe thead th {\n",
       "        text-align: right;\n",
       "    }\n",
       "</style>\n",
       "<table border=\"1\" class=\"dataframe\">\n",
       "  <thead>\n",
       "    <tr style=\"text-align: right;\">\n",
       "      <th></th>\n",
       "      <th>0</th>\n",
       "    </tr>\n",
       "  </thead>\n",
       "  <tbody>\n",
       "    <tr>\n",
       "      <th>Sequoia Capital</th>\n",
       "      <td>45</td>\n",
       "    </tr>\n",
       "    <tr>\n",
       "      <th>Accel Partners</th>\n",
       "      <td>43</td>\n",
       "    </tr>\n",
       "    <tr>\n",
       "      <th>Kalaari Capital</th>\n",
       "      <td>35</td>\n",
       "    </tr>\n",
       "    <tr>\n",
       "      <th>Blume Ventures</th>\n",
       "      <td>27</td>\n",
       "    </tr>\n",
       "    <tr>\n",
       "      <th>SAIF Partners</th>\n",
       "      <td>24</td>\n",
       "    </tr>\n",
       "    <tr>\n",
       "      <th>...</th>\n",
       "      <td>...</td>\n",
       "    </tr>\n",
       "    <tr>\n",
       "      <th>BlackSoil Capital Pvt. Ltd.</th>\n",
       "      <td>1</td>\n",
       "    </tr>\n",
       "    <tr>\n",
       "      <th>Scadea Solutions Inc</th>\n",
       "      <td>1</td>\n",
       "    </tr>\n",
       "    <tr>\n",
       "      <th>Lightbox Ventures and others</th>\n",
       "      <td>1</td>\n",
       "    </tr>\n",
       "    <tr>\n",
       "      <th>Goldman Sachs Group</th>\n",
       "      <td>1</td>\n",
       "    </tr>\n",
       "    <tr>\n",
       "      <th>GrowX Ventures.</th>\n",
       "      <td>1</td>\n",
       "    </tr>\n",
       "  </tbody>\n",
       "</table>\n",
       "<p>1132 rows × 1 columns</p>\n",
       "</div>"
      ],
      "text/plain": [
       "                               0\n",
       "Sequoia Capital               45\n",
       "Accel Partners                43\n",
       "Kalaari Capital               35\n",
       "Blume Ventures                27\n",
       "SAIF Partners                 24\n",
       "...                           ..\n",
       "BlackSoil Capital Pvt. Ltd.    1\n",
       "Scadea Solutions Inc           1\n",
       "Lightbox Ventures and others   1\n",
       "Goldman Sachs Group            1\n",
       "GrowX Ventures.                1\n",
       "\n",
       "[1132 rows x 1 columns]"
      ]
     },
     "execution_count": 15,
     "metadata": {},
     "output_type": "execute_result"
    }
   ],
   "source": [
    "different_invest = different_invest.sort_values(by = [0], ascending = False)\n",
    "different_invest"
   ]
  },
  {
   "cell_type": "code",
   "execution_count": 16,
   "metadata": {},
   "outputs": [
    {
     "data": {
      "text/plain": [
       "[45, 43, 35, 27, 24]"
      ]
     },
     "execution_count": 16,
     "metadata": {},
     "output_type": "execute_result"
    }
   ],
   "source": [
    "x = []\n",
    "y = []\n",
    "#we have to just find top 5 Investors\n",
    "for i in range(5):\n",
    "    x.append(different_invest.index[i])\n",
    "    y.append(different_invest.values[i][0])\n",
    "y    "
   ]
  },
  {
   "cell_type": "code",
   "execution_count": 17,
   "metadata": {},
   "outputs": [
    {
     "data": {
      "text/plain": [
       "['Sequoia Capital',\n",
       " 'Accel Partners',\n",
       " 'Kalaari Capital',\n",
       " 'Blume Ventures',\n",
       " 'SAIF Partners']"
      ]
     },
     "execution_count": 17,
     "metadata": {},
     "output_type": "execute_result"
    }
   ],
   "source": [
    "x"
   ]
  },
  {
   "cell_type": "code",
   "execution_count": 18,
   "metadata": {},
   "outputs": [
    {
     "name": "stdout",
     "output_type": "stream",
     "text": [
      "List Of Top 5 Investors who Invested most number of times of type Seed funding or Crowd funding :\n",
      "1. Sequoia Capital\n",
      "2. Accel Partners\n",
      "3. Kalaari Capital\n",
      "4. Blume Ventures\n",
      "5. SAIF Partners\n"
     ]
    }
   ],
   "source": [
    "#printing the top investors who invested who invested most number of times in different startups and Investment type is either Seed funding or Crowd funding\n",
    "print(\"List Of Top 5 Investors who Invested most number of times of type Seed funding or Crowd funding :\")\n",
    "i = 0\n",
    "for ele in x:\n",
    "    print(i+1,end = \"\")\n",
    "    print(\".\", end = \" \")\n",
    "    print(ele)\n",
    "    i += 1"
   ]
  },
  {
   "cell_type": "code",
   "execution_count": null,
   "metadata": {},
   "outputs": [],
   "source": []
  },
  {
   "cell_type": "code",
   "execution_count": 19,
   "metadata": {},
   "outputs": [
    {
     "data": {
      "image/png": "[encoded data removed]",
      "text/plain": [
       "<Figure size 432x288 with 1 Axes>"
      ]
     },
     "metadata": {
      "needs_background": "light"
     },
     "output_type": "display_data"
    }
   ],
   "source": [
    "#plot\n",
    "\n",
    "plt.bar(x, y)\n",
    "plt.grid()\n",
    "plt.xlabel(\"Investors Name\")\n",
    "plt.ylabel(\"Number Of Investments\")\n",
    "plt.xticks(rotation=40)\n",
    "plt.title(\"Top 5 Investors and corresponding Number Of Investments In Different Startups of Investment type Private Equity \\n\")\n",
    "plt.show()"
   ]
  },
  {
   "cell_type": "code",
   "execution_count": null,
   "metadata": {},
   "outputs": [],
   "source": []
  },
  {
   "cell_type": "code",
   "execution_count": 20,
   "metadata": {},
   "outputs": [
    {
     "data": {
      "text/html": [
       "<div>\n",
       "<style scoped>\n",
       "    .dataframe tbody tr th:only-of-type {\n",
       "        vertical-align: middle;\n",
       "    }\n",
       "\n",
       "    .dataframe tbody tr th {\n",
       "        vertical-align: top;\n",
       "    }\n",
       "\n",
       "    .dataframe thead th {\n",
       "        text-align: right;\n",
       "    }\n",
       "</style>\n",
       "<table border=\"1\" class=\"dataframe\">\n",
       "  <thead>\n",
       "    <tr style=\"text-align: right;\">\n",
       "      <th></th>\n",
       "      <th>Name Of Investors</th>\n",
       "      <th>Total Number Of Investments of type Seed funding or Crowd funding</th>\n",
       "    </tr>\n",
       "  </thead>\n",
       "  <tbody>\n",
       "    <tr>\n",
       "      <th>0</th>\n",
       "      <td>Sequoia Capital</td>\n",
       "      <td>45</td>\n",
       "    </tr>\n",
       "    <tr>\n",
       "      <th>1</th>\n",
       "      <td>Accel Partners</td>\n",
       "      <td>43</td>\n",
       "    </tr>\n",
       "    <tr>\n",
       "      <th>2</th>\n",
       "      <td>Kalaari Capital</td>\n",
       "      <td>35</td>\n",
       "    </tr>\n",
       "    <tr>\n",
       "      <th>3</th>\n",
       "      <td>Blume Ventures</td>\n",
       "      <td>27</td>\n",
       "    </tr>\n",
       "    <tr>\n",
       "      <th>4</th>\n",
       "      <td>SAIF Partners</td>\n",
       "      <td>24</td>\n",
       "    </tr>\n",
       "  </tbody>\n",
       "</table>\n",
       "</div>"
      ],
      "text/plain": [
       "  Name Of Investors  \\\n",
       "0   Sequoia Capital   \n",
       "1    Accel Partners   \n",
       "2   Kalaari Capital   \n",
       "3    Blume Ventures   \n",
       "4     SAIF Partners   \n",
       "\n",
       "   Total Number Of Investments of type Seed funding or Crowd funding  \n",
       "0                                                 45                  \n",
       "1                                                 43                  \n",
       "2                                                 35                  \n",
       "3                                                 27                  \n",
       "4                                                 24                  "
      ]
     },
     "execution_count": 20,
     "metadata": {},
     "output_type": "execute_result"
    }
   ],
   "source": [
    "#pandas frame for Investors name and corresponding Number of Investments made by them in different startups and Investment type is either Seed funding or Crowd funding\n",
    "\n",
    "li = list(zip(x,y))\n",
    "investor_data = pd.DataFrame(li, columns = [\"Name Of Investors\", \"Total Number Of Investments of type Seed funding or Crowd funding\"])\n",
    "investor_data"
   ]
  },
  {
   "cell_type": "code",
   "execution_count": null,
   "metadata": {},
   "outputs": [],
   "source": []
  },
  {
   "cell_type": "code",
   "execution_count": null,
   "metadata": {},
   "outputs": [],
   "source": []
  },
  {
   "cell_type": "code",
   "execution_count": null,
   "metadata": {},
   "outputs": [],
   "source": []
  },
  {
   "cell_type": "code",
   "execution_count": null,
   "metadata": {},
   "outputs": [],
   "source": []
  },
  {
   "cell_type": "markdown",
   "metadata": {},
   "source": [
    "# Pie Chart \n",
    "\n",
    "to find the difference betwwen seed funding vs private quity"
   ]
  },
  {
   "cell_type": "code",
   "execution_count": null,
   "metadata": {},
   "outputs": [],
   "source": []
  },
  {
   "cell_type": "code",
   "execution_count": 21,
   "metadata": {},
   "outputs": [],
   "source": [
    "test5['InvestmentType'].replace(\"Crowd Funding\", \"Others\", inplace = True)\n",
    "test5['InvestmentType'].replace(\"Debt Funding\", \"Others\", inplace = True)"
   ]
  },
  {
   "cell_type": "code",
   "execution_count": 22,
   "metadata": {},
   "outputs": [
    {
     "data": {
      "text/plain": [
       "Index(['Seed Funding', 'Private Equity', 'Others'], dtype='object')"
      ]
     },
     "execution_count": 22,
     "metadata": {},
     "output_type": "execute_result"
    }
   ],
   "source": [
    " #extracting the cities and their counts\n",
    "temp = test5['InvestmentType'].value_counts()\n",
    "inv_type = temp.index\n",
    "inv_type"
   ]
  },
  {
   "cell_type": "code",
   "execution_count": 23,
   "metadata": {},
   "outputs": [
    {
     "data": {
      "text/plain": [
       "array([1294, 1066,    3], dtype=int64)"
      ]
     },
     "execution_count": 23,
     "metadata": {},
     "output_type": "execute_result"
    }
   ],
   "source": [
    "No_Of_Funding = temp.values\n",
    "No_Of_Funding"
   ]
  },
  {
   "cell_type": "code",
   "execution_count": null,
   "metadata": {},
   "outputs": [],
   "source": []
  },
  {
   "cell_type": "code",
   "execution_count": 26,
   "metadata": {},
   "outputs": [
    {
     "data": {
      "image/png": "[encoded data removed]",
      "text/plain": [
       "<Figure size 432x288 with 1 Axes>"
      ]
     },
     "metadata": {},
     "output_type": "display_data"
    }
   ],
   "source": [
    "\n",
    "plt.title(\"Variation Of Different Investment Type  \\n\")\n",
    "plt.pie(No_Of_Funding,labels = inv_type , explode = [0.1,0.1,0.1] , autopct=\"%.2f%%\",  startangle=0, counterclock = True)\n",
    "plt.axis(\"equal\")\n",
    "plt.show()"
   ]
  },
  {
   "cell_type": "code",
   "execution_count": null,
   "metadata": {},
   "outputs": [],
   "source": []
  }
 ],
 "metadata": {
  "kernelspec": {
   "display_name": "Python 3",
   "language": "python",
   "name": "python3"
  },
  "language_info": {
   "codemirror_mode": {
    "name": "ipython",
    "version": 3
   },
   "file_extension": ".py",
   "mimetype": "text/x-python",
   "name": "python",
   "nbconvert_exporter": "python",
   "pygments_lexer": "ipython3",
   "version": "3.8.3"
  }
 },
 "nbformat": 4,
 "nbformat_minor": 4
}
