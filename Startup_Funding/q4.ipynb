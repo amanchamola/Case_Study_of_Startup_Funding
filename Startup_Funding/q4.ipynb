{
 "cells": [
  {
   "cell_type": "markdown",
   "metadata": {},
   "source": [
    "# Work 4"
   ]
  },
  {
   "cell_type": "markdown",
   "metadata": {},
   "source": [
    "Even after putting so much effort in finding the probable investors, it didn't turn out to be helpful for your friend. So you went to your investor friend to understand the situation better and your investor friend explained to you about the different Investment Types and their features. This new information will be helpful in finding the right investor. Since your friend startup is at an early stage startup, the best-suited investment type would be - Seed Funding and Crowdfunding. Find the top 5 investors who have invested in a different number of startups and their investment type is Crowdfunding or Seed Funding. Correct spelling of investment types are - \"Private Equity\", \"Seed Funding\", \"Debt Funding\", and \"Crowd Funding\". Keep an eye for any spelling mistake. You can find this by printing unique values from this column. There are many errors in startup names. Ignore correcting all, just handle the important ones - Ola, Flipkart, Oyo and Paytm."
   ]
  },
  {
   "cell_type": "code",
   "execution_count": null,
   "metadata": {},
   "outputs": [],
   "source": []
  },
  {
   "cell_type": "code",
   "execution_count": 1,
   "metadata": {},
   "outputs": [],
   "source": [
    "import numpy as np\n",
    "import pandas as pd\n",
    "import matplotlib.pyplot as plt\n",
    "import csv\n",
    "import operator"
   ]
  },
  {
   "cell_type": "code",
   "execution_count": 2,
   "metadata": {},
   "outputs": [],
   "source": [
    "path = 'C:/Users/91958/Desktop/nyadata/startup_funding.csv'"
   ]
  },
  {
   "cell_type": "code",
   "execution_count": 3,
   "metadata": {},
   "outputs": [],
   "source": [
    "df = pd.read_csv(path)"
   ]
  },
  {
   "cell_type": "code",
   "execution_count": 4,
   "metadata": {},
   "outputs": [],
   "source": [
    "test4 = df.copy()"
   ]
  },
  {
   "cell_type": "code",
   "execution_count": null,
   "metadata": {},
   "outputs": [],
   "source": []
  },
  {
   "cell_type": "code",
   "execution_count": 5,
   "metadata": {},
   "outputs": [],
   "source": [
    "#correcting the spelling in investors name ignoring undisclosed investors\n",
    "\n",
    "\n",
    "test4['InvestorsName'].replace(\"Undisclosed investors\", \"Undisclosed Investors\", inplace = True)\n",
    "test4['InvestorsName'].replace(\"Undisclosed Investors\",\"\",inplace = True)"
   ]
  },
  {
   "cell_type": "code",
   "execution_count": 6,
   "metadata": {},
   "outputs": [
    {
     "data": {
      "text/plain": [
       "Index(['', 'Indian Angel Network', 'Ratan Tata', 'Kalaari Capital',\n",
       "       'Group of Angel Investors', 'Sequoia Capital', 'undisclosed investors',\n",
       "       'Brand Capital', 'RoundGlass Partners', 'Undisclosed Investor',\n",
       "       ...\n",
       "       'Sequoia Capital, Tree Line Asia, Innoven Capital',\n",
       "       'Shruth & Smith Group, Hermes Group',\n",
       "       'WRV Capital and IndusAge Partners, Infosys Innovation Fund',\n",
       "       'Kashyap Deorah, Rajul Garg, Maninder Gulati',\n",
       "       'AVG Group, 500 Startups', 'Verlinvest, DSG Consumer Partners',\n",
       "       'Fidelity Growth Partners, Fidelity Biosciences',\n",
       "       'IDG Ventures, Accel Partners', 'Accel Partners India, RB Investments',\n",
       "       'Kludein LLCPhanindra Sama, Narayan Ramachandran, Pranav Pai'],\n",
       "      dtype='object', length=1884)"
      ]
     },
     "execution_count": 6,
     "metadata": {},
     "output_type": "execute_result"
    }
   ],
   "source": [
    "temp = test4['InvestorsName'].value_counts()\n",
    "temp.index"
   ]
  },
  {
   "cell_type": "code",
   "execution_count": 7,
   "metadata": {},
   "outputs": [],
   "source": [
    "#correcting major startup names\n",
    "\n",
    "test4['StartupName'].replace(\"Ola Cabs\", \"Ola\", inplace = True)\n",
    "test4['StartupName'].replace(\"OyoRooms\", \"Oyo\", inplace = True)\n",
    "test4['StartupName'].replace(\"Oyorooms\", \"Oyo\", inplace = True)\n",
    "test4['StartupName'].replace(\"OYO Rooms\", \"Oyo\", inplace = True)\n",
    "test4['StartupName'].replace(\"Olacabs\", \"Ola\", inplace = True)\n",
    "test4['StartupName'].replace(\"Flipkart.com\", \"Flipkart\", inplace = True)\n",
    "test4['StartupName'].replace(\"Oyo Rooms\", \"Oyo\", inplace = True)\n",
    "test4['StartupName'].replace(\"Paytm Marketplace\", \"Paytm\", inplace = True)"
   ]
  },
  {
   "cell_type": "code",
   "execution_count": 8,
   "metadata": {},
   "outputs": [
    {
     "data": {
      "text/plain": [
       "Index(['Ola', 'Swiggy', 'Paytm', 'Oyo', 'UrbanClap', 'NoBroker', 'Flipkart',\n",
       "       'Medinfi', 'Jugnoo', 'Moglix',\n",
       "       ...\n",
       "       'Fractal Analytics', 'Design Cafe', 'FindmeaShoe', 'MuhurtMaza',\n",
       "       'Sokrati', 'Big Fish Ventures', 'Zopper', 'Playment', 'Gomalon',\n",
       "       'EveningFlavors'],\n",
       "      dtype='object', length=1993)"
      ]
     },
     "execution_count": 8,
     "metadata": {},
     "output_type": "execute_result"
    }
   ],
   "source": [
    "temp3 = test4['StartupName'].value_counts()\n",
    "temp3.index"
   ]
  },
  {
   "cell_type": "code",
   "execution_count": null,
   "metadata": {},
   "outputs": [],
   "source": []
  },
  {
   "cell_type": "code",
   "execution_count": 9,
   "metadata": {},
   "outputs": [
    {
     "data": {
      "text/plain": [
       "Index(['Seed Funding', 'Private Equity', 'SeedFunding', 'PrivateEquity',\n",
       "       'Crowd funding', 'Crowd Funding', 'Debt Funding'],\n",
       "      dtype='object')"
      ]
     },
     "execution_count": 9,
     "metadata": {},
     "output_type": "execute_result"
    }
   ],
   "source": [
    "temp3a = test4['InvestmentType'].value_counts()\n",
    "temp3a.index"
   ]
  },
  {
   "cell_type": "code",
   "execution_count": null,
   "metadata": {},
   "outputs": [],
   "source": []
  },
  {
   "cell_type": "code",
   "execution_count": 10,
   "metadata": {},
   "outputs": [],
   "source": [
    "#correcting spelling of investment type\n",
    "test4['InvestmentType'].replace(\"PrivateEquity\",\"Private Equity\", inplace = True)\n",
    "test4['InvestmentType'].replace(\"SeedFunding\",\"Seed Funding\", inplace = True)\n",
    "test4['InvestmentType'].replace(\"Crowd funding\",\"Crowd Funding\", inplace = True)"
   ]
  },
  {
   "cell_type": "code",
   "execution_count": null,
   "metadata": {},
   "outputs": [],
   "source": []
  },
  {
   "cell_type": "code",
   "execution_count": 11,
   "metadata": {},
   "outputs": [],
   "source": [
    "#filter na \n",
    "test4.dropna(inplace = True, subset = [\"InvestorsName\", \"StartupName\", \"InvestmentType\"])\n",
    "test4.reset_index(inplace = True, drop = True)"
   ]
  },
  {
   "cell_type": "code",
   "execution_count": null,
   "metadata": {},
   "outputs": [],
   "source": []
  },
  {
   "cell_type": "markdown",
   "metadata": {},
   "source": [
    "# Function To Solve the Problem"
   ]
  },
  {
   "cell_type": "code",
   "execution_count": null,
   "metadata": {},
   "outputs": [],
   "source": []
  },
  {
   "cell_type": "code",
   "execution_count": 12,
   "metadata": {},
   "outputs": [],
   "source": [
    "def create(startup_name, Investor_Name, Investment_Type):\n",
    "    cnt = {}\n",
    "    name_startup = {}\n",
    "    \n",
    "    Desired_Investment_Type = [\"Crowd Funding\", \"Seed Funding\"]\n",
    "    \n",
    "    n = len(Investor_Name)\n",
    "    for index in range(n):\n",
    "        \n",
    "        if Investment_Type[index].strip() not in Desired_Investment_Type:\n",
    "            continue\n",
    "            \n",
    "        i = Investor_Name[index].strip()\n",
    "        name = startup_name[index].strip()\n",
    "        \n",
    "        if \",\" not in i and i!='':\n",
    "            if name_startup.get(i) is None:\n",
    "                cnt[i] = 1\n",
    "                li =[]\n",
    "                li.append(name)\n",
    "                name_startup[i] = li\n",
    "                \n",
    "            else:\n",
    "                li = name_startup[i]\n",
    "                if name not in li:\n",
    "                    cnt[i] = cnt.get(i,0) + 1\n",
    "                    li.append(name)\n",
    "                    name_startup[i] = li\n",
    "        else:\n",
    "            string = i.strip().split(',')\n",
    "            for j in string:\n",
    "                k = j.strip()\n",
    "                if k != '':\n",
    "                    \n",
    "                    if name_startup.get(k) is None:\n",
    "                        cnt[k] = 1\n",
    "                        li =[]\n",
    "                        li.append(name)\n",
    "                        name_startup[k] = li\n",
    "                \n",
    "                    else:\n",
    "                        li = name_startup[k]\n",
    "                        if name not in li:\n",
    "                            cnt[k] = cnt.get(k,0) + 1\n",
    "                            li.append(name)\n",
    "                            name_startup[k] = li\n",
    "\n",
    "                \n",
    "    return cnt"
   ]
  },
  {
   "cell_type": "code",
   "execution_count": 14,
   "metadata": {},
   "outputs": [],
   "source": [
    "dictionary = create(test4['StartupName'],test4['InvestorsName'],test4['InvestmentType']) \n"
   ]
  },
  {
   "cell_type": "code",
   "execution_count": 15,
   "metadata": {},
   "outputs": [],
   "source": [
    "different_invest = pd.DataFrame(list(dictionary.values()),list(dictionary.keys()))\n"
   ]
  },
  {
   "cell_type": "code",
   "execution_count": 16,
   "metadata": {},
   "outputs": [
    {
     "data": {
      "text/html": [
       "<div>\n",
       "<style scoped>\n",
       "    .dataframe tbody tr th:only-of-type {\n",
       "        vertical-align: middle;\n",
       "    }\n",
       "\n",
       "    .dataframe tbody tr th {\n",
       "        vertical-align: top;\n",
       "    }\n",
       "\n",
       "    .dataframe thead th {\n",
       "        text-align: right;\n",
       "    }\n",
       "</style>\n",
       "<table border=\"1\" class=\"dataframe\">\n",
       "  <thead>\n",
       "    <tr style=\"text-align: right;\">\n",
       "      <th></th>\n",
       "      <th>0</th>\n",
       "    </tr>\n",
       "  </thead>\n",
       "  <tbody>\n",
       "    <tr>\n",
       "      <th>Indian Angel Network</th>\n",
       "      <td>33</td>\n",
       "    </tr>\n",
       "    <tr>\n",
       "      <th>Rajan Anandan</th>\n",
       "      <td>23</td>\n",
       "    </tr>\n",
       "    <tr>\n",
       "      <th>LetsVenture</th>\n",
       "      <td>16</td>\n",
       "    </tr>\n",
       "    <tr>\n",
       "      <th>Anupam Mittal</th>\n",
       "      <td>16</td>\n",
       "    </tr>\n",
       "    <tr>\n",
       "      <th>Group of Angel Investors</th>\n",
       "      <td>14</td>\n",
       "    </tr>\n",
       "    <tr>\n",
       "      <th>...</th>\n",
       "      <td>...</td>\n",
       "    </tr>\n",
       "    <tr>\n",
       "      <th>Mohit Lalvani</th>\n",
       "      <td>1</td>\n",
       "    </tr>\n",
       "    <tr>\n",
       "      <th>Kamal Puri</th>\n",
       "      <td>1</td>\n",
       "    </tr>\n",
       "    <tr>\n",
       "      <th>Vineet Taneja</th>\n",
       "      <td>1</td>\n",
       "    </tr>\n",
       "    <tr>\n",
       "      <th>Rohit Chokhani</th>\n",
       "      <td>1</td>\n",
       "    </tr>\n",
       "    <tr>\n",
       "      <th>UK based Group of Angel Investors</th>\n",
       "      <td>1</td>\n",
       "    </tr>\n",
       "  </tbody>\n",
       "</table>\n",
       "<p>1597 rows × 1 columns</p>\n",
       "</div>"
      ],
      "text/plain": [
       "                                    0\n",
       "Indian Angel Network               33\n",
       "Rajan Anandan                      23\n",
       "LetsVenture                        16\n",
       "Anupam Mittal                      16\n",
       "Group of Angel Investors           14\n",
       "...                                ..\n",
       "Mohit Lalvani                       1\n",
       "Kamal Puri                          1\n",
       "Vineet Taneja                       1\n",
       "Rohit Chokhani                      1\n",
       "UK based Group of Angel Investors   1\n",
       "\n",
       "[1597 rows x 1 columns]"
      ]
     },
     "execution_count": 16,
     "metadata": {},
     "output_type": "execute_result"
    }
   ],
   "source": [
    "different_invest = different_invest.sort_values(by = [0], ascending = False)\n",
    "different_invest"
   ]
  },
  {
   "cell_type": "code",
   "execution_count": 18,
   "metadata": {},
   "outputs": [
    {
     "data": {
      "text/plain": [
       "[33, 23, 16, 16, 14]"
      ]
     },
     "execution_count": 18,
     "metadata": {},
     "output_type": "execute_result"
    }
   ],
   "source": [
    "x = []\n",
    "y = []\n",
    "#we have to just find top 5 Investors\n",
    "for i in range(5):\n",
    "    x.append(different_invest.index[i])\n",
    "    y.append(different_invest.values[i][0])\n",
    "y    "
   ]
  },
  {
   "cell_type": "code",
   "execution_count": 19,
   "metadata": {},
   "outputs": [
    {
     "data": {
      "text/plain": [
       "['Indian Angel Network',\n",
       " 'Rajan Anandan',\n",
       " 'LetsVenture',\n",
       " 'Anupam Mittal',\n",
       " 'Group of Angel Investors']"
      ]
     },
     "execution_count": 19,
     "metadata": {},
     "output_type": "execute_result"
    }
   ],
   "source": [
    "x"
   ]
  },
  {
   "cell_type": "code",
   "execution_count": 20,
   "metadata": {},
   "outputs": [
    {
     "name": "stdout",
     "output_type": "stream",
     "text": [
      "List Of Top 5 Investors who Invested most number of times of type Seed funding or Crowd funding :\n",
      "1. Indian Angel Network\n",
      "2. Rajan Anandan\n",
      "3. LetsVenture\n",
      "4. Anupam Mittal\n",
      "5. Group of Angel Investors\n"
     ]
    }
   ],
   "source": [
    "#printing the top investors who invested who invested most number of times in different startups and Investment type is either Seed funding or Crowd funding\n",
    "print(\"List Of Top 5 Investors who Invested most number of times of type Seed funding or Crowd funding :\")\n",
    "i = 0\n",
    "for ele in x:\n",
    "    print(i+1,end = \"\")\n",
    "    print(\".\", end = \" \")\n",
    "    print(ele)\n",
    "    i += 1"
   ]
  },
  {
   "cell_type": "code",
   "execution_count": 24,
   "metadata": {},
   "outputs": [
    {
     "data": {
      "image/png": "[encoded data removed]",
      "text/plain": [
       "<Figure size 432x288 with 1 Axes>"
      ]
     },
     "metadata": {
      "needs_background": "light"
     },
     "output_type": "display_data"
    }
   ],
   "source": [
    "#plot\n",
    "plt.bar(x, y, color = ['red','green','pink','blue','yellow'])\n",
    "plt.grid()\n",
    "plt.xlabel(\"Investors Name\")\n",
    "plt.ylabel(\"Number Of Investments\")\n",
    "plt.xticks(rotation=40)\n",
    "plt.title(\"Top 5 Investors and corresponding Number Of Investments In Different Startups of Investment type Crown Funding or Seed Funding \\n\")\n",
    "plt.show()"
   ]
  },
  {
   "cell_type": "code",
   "execution_count": 25,
   "metadata": {},
   "outputs": [
    {
     "data": {
      "text/html": [
       "<div>\n",
       "<style scoped>\n",
       "    .dataframe tbody tr th:only-of-type {\n",
       "        vertical-align: middle;\n",
       "    }\n",
       "\n",
       "    .dataframe tbody tr th {\n",
       "        vertical-align: top;\n",
       "    }\n",
       "\n",
       "    .dataframe thead th {\n",
       "        text-align: right;\n",
       "    }\n",
       "</style>\n",
       "<table border=\"1\" class=\"dataframe\">\n",
       "  <thead>\n",
       "    <tr style=\"text-align: right;\">\n",
       "      <th></th>\n",
       "      <th>Name Of Investors</th>\n",
       "      <th>Total Number Of Investments of type Seed funding or Crowd funding</th>\n",
       "    </tr>\n",
       "  </thead>\n",
       "  <tbody>\n",
       "    <tr>\n",
       "      <th>0</th>\n",
       "      <td>Indian Angel Network</td>\n",
       "      <td>33</td>\n",
       "    </tr>\n",
       "    <tr>\n",
       "      <th>1</th>\n",
       "      <td>Rajan Anandan</td>\n",
       "      <td>23</td>\n",
       "    </tr>\n",
       "    <tr>\n",
       "      <th>2</th>\n",
       "      <td>LetsVenture</td>\n",
       "      <td>16</td>\n",
       "    </tr>\n",
       "    <tr>\n",
       "      <th>3</th>\n",
       "      <td>Anupam Mittal</td>\n",
       "      <td>16</td>\n",
       "    </tr>\n",
       "    <tr>\n",
       "      <th>4</th>\n",
       "      <td>Group of Angel Investors</td>\n",
       "      <td>14</td>\n",
       "    </tr>\n",
       "  </tbody>\n",
       "</table>\n",
       "</div>"
      ],
      "text/plain": [
       "          Name Of Investors  \\\n",
       "0      Indian Angel Network   \n",
       "1             Rajan Anandan   \n",
       "2               LetsVenture   \n",
       "3             Anupam Mittal   \n",
       "4  Group of Angel Investors   \n",
       "\n",
       "   Total Number Of Investments of type Seed funding or Crowd funding  \n",
       "0                                                 33                  \n",
       "1                                                 23                  \n",
       "2                                                 16                  \n",
       "3                                                 16                  \n",
       "4                                                 14                  "
      ]
     },
     "execution_count": 25,
     "metadata": {},
     "output_type": "execute_result"
    }
   ],
   "source": [
    "#pandas frame for Investors name and corresponding Number of Investments made by them in different startups and Investment type is either Seed funding or Crowd funding\n",
    "\n",
    "li = list(zip(x,y))\n",
    "investor_data = pd.DataFrame(li, columns = [\"Name Of Investors\", \"Total Number Of Investments of type Seed funding or Crowd funding\"])\n",
    "investor_data"
   ]
  },
  {
   "cell_type": "code",
   "execution_count": null,
   "metadata": {},
   "outputs": [],
   "source": []
  }
 ],
 "metadata": {
  "kernelspec": {
   "display_name": "Python 3",
   "language": "python",
   "name": "python3"
  },
  "language_info": {
   "codemirror_mode": {
    "name": "ipython",
    "version": 3
   },
   "file_extension": ".py",
   "mimetype": "text/x-python",
   "name": "python",
   "nbconvert_exporter": "python",
   "pygments_lexer": "ipython3",
   "version": "3.8.3"
  }
 },
 "nbformat": 4,
 "nbformat_minor": 4
}
